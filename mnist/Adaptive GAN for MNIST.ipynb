{
 "cells": [
  {
   "cell_type": "markdown",
   "metadata": {},
   "source": [
    "# Adaptive GAN for MNIST\n",
    "\n"
   ]
  },
  {
   "cell_type": "markdown",
   "metadata": {},
   "source": [
    "---\n",
    "---\n",
    "## Imports"
   ]
  },
  {
   "cell_type": "code",
   "execution_count": 1,
   "metadata": {},
   "outputs": [],
   "source": [
    "%matplotlib inline\n",
    "import sys\n",
    "sys.path.append(\"..\")\n",
    "\n",
    "import os\n",
    "import datetime\n",
    "from tqdm import tqdm\n",
    "import matplotlib.pyplot as plt\n",
    "\n",
    "# TF libs\n",
    "import tensorflow as tf\n",
    "config = tf.ConfigProto()\n",
    "config.gpu_options.allow_growth = True\n",
    "\n",
    "# Utility functions from ../libs\n",
    "from libs.layers.sn_layer import SNConv2D, SNLinear\n",
    "from libs.losses.losses import masked_cross_entropy\n",
    "from libs.utils.plotting import plot_images, plot_losses\n",
    "\n",
    "# Local scripts\n",
    "from dataset import Mnist\n",
    "from discriminator import Discriminator\n",
    "from generator import Generator\n",
    "from classifier import build_classifier"
   ]
  },
  {
   "cell_type": "code",
   "execution_count": 2,
   "metadata": {},
   "outputs": [
    {
     "data": {
      "text/plain": [
       "'1.14.1-dev20190426'"
      ]
     },
     "execution_count": 2,
     "metadata": {},
     "output_type": "execute_result"
    }
   ],
   "source": [
    "tf.__version__"
   ]
  },
  {
   "cell_type": "markdown",
   "metadata": {},
   "source": [
    "---\n",
    "---\n",
    "## Build model\n",
    "\n",
    "+ attack weight is  the weight to balance the loss of GAN and the loss of attacking, which is tuned by trial\n",
    "+ mask weight is the weight to balance the loss of successfully-attacking samples and failed samples\n",
    "+ attack taget can only be one number at one time"
   ]
  },
  {
   "cell_type": "code",
   "execution_count": 3,
   "metadata": {},
   "outputs": [],
   "source": [
    "# Hyper-parameters\n",
    "mask_weight = 1\n",
    "attack_weight = tf.placeholder(tf.float32, None, name=\"attack-weight\")"
   ]
  },
  {
   "cell_type": "code",
   "execution_count": 4,
   "metadata": {},
   "outputs": [],
   "source": [
    "# Placeholders\n",
    "z = tf.placeholder(tf.float32, shape=[None, 100], name=\"noise\")\n",
    "y = tf.placeholder(tf.float32, shape=[None, 10], name=\"label\")\n",
    "x = tf.placeholder(tf.float32, shape=[None, 28, 28, 1], name=\"real-image\")\n",
    "dis_target = tf.placeholder(tf.float32, shape=[None, 1], name=\"discriminator-target\") # Whether the image is fake of real    \n",
    "is_training = tf.placeholder(tf.bool)\n",
    "attack_target =  tf.placeholder(tf.int64, [None], name=\"attack-target\")"
   ]
  },
  {
   "cell_type": "code",
   "execution_count": null,
   "metadata": {},
   "outputs": [
    {
     "name": "stderr",
     "output_type": "stream",
     "text": [
      "WARNING: Logging before flag parsing goes to stderr.\n",
      "W0609 17:12:11.630073 139993835505408 deprecation_wrapper.py:119] From /home/doublebite/Adaptive Gan/mnist/generator.py:6: The name tf.layers.Dense is deprecated. Please use tf.compat.v1.layers.Dense instead.\n",
      "\n",
      "W0609 17:12:11.634173 139993835505408 deprecation_wrapper.py:119] From /home/doublebite/Adaptive Gan/mnist/generator.py:7: The name tf.layers.BatchNormalization is deprecated. Please use tf.compat.v1.layers.BatchNormalization instead.\n",
      "\n",
      "W0609 17:12:11.637320 139993835505408 deprecation_wrapper.py:119] From /home/doublebite/Adaptive Gan/mnist/generator.py:11: The name tf.layers.Conv2DTranspose is deprecated. Please use tf.compat.v1.layers.Conv2DTranspose instead.\n",
      "\n",
      "W0609 17:12:11.643580 139993835505408 deprecation.py:506] From /home/doublebite/anaconda3/envs/NLU/lib/python3.7/site-packages/tensorflow/python/ops/init_ops.py:1251: calling VarianceScaling.__init__ (from tensorflow.python.ops.init_ops) with dtype is deprecated and will be removed in a future version.\n",
      "Instructions for updating:\n",
      "Call initializer instance with the dtype argument instead of passing it to the constructor\n",
      "W0609 17:12:13.288584 139993835505408 deprecation.py:323] From /home/doublebite/Adaptive Gan/mnist/discriminator.py:27: flatten (from tensorflow.python.layers.core) is deprecated and will be removed in a future version.\n",
      "Instructions for updating:\n",
      "Use keras.layers.flatten instead.\n"
     ]
    },
    {
     "name": "stdout",
     "output_type": "stream",
     "text": [
      "<tf.Variable 'discriminator/sn_conv2d/kernel:0' shape=(5, 5, 11, 10) dtype=float32>\n",
      "<tf.Variable 'discriminator/sn_conv2d_1/kernel:0' shape=(5, 5, 20, 64) dtype=float32>\n"
     ]
    }
   ],
   "source": [
    "# Create generator and discriminator model\n",
    "generator = Generator()\n",
    "discriminator = Discriminator()\n",
    "classifier = build_classifier()\n",
    "\n",
    "# Generator and discriminator outputs\n",
    "fake_img = generator(z, y, is_training)\n",
    "d_fake_src, d_fake_cls = discriminator(fake_img, y)  # src: whether the image is real or fake; cls: the class of image\n",
    "d_real_src, d_real_cls = discriminator(x, y)\n",
    "\n",
    "# Calculate loss\n",
    "d_loss_source = tf.reduce_sum(tf.nn.sigmoid_cross_entropy_with_logits(logits=d_real_src, labels=dis_target))\n",
    "d_loss_class = tf.reduce_sum(tf.nn.softmax_cross_entropy_with_logits_v2(logits=d_real_cls, labels=y))\n",
    "g_loss_source = tf.reduce_sum(tf.nn.sigmoid_cross_entropy_with_logits(logits=d_fake_src, labels=dis_target))\n",
    "g_loss_class = tf.reduce_sum(tf.nn.softmax_cross_entropy_with_logits_v2(logits=d_fake_cls, labels=y))\n",
    "\n",
    "# Calculate attack loss    \n",
    "classifier_output = classifier(fake_img)\n",
    "attack_losses = tf.losses.sparse_softmax_cross_entropy(attack_target, classifier_output)\n",
    "classifier_preds = tf.math.argmax(classifier_output, axis=-1)\n",
    "attack_loss = masked_cross_entropy(attack_losses, classifier_preds, attack_target, mask_weight)"
   ]
  },
  {
   "cell_type": "code",
   "execution_count": null,
   "metadata": {},
   "outputs": [],
   "source": [
    "# Get training ops\n",
    "trainable_vars = tf.trainable_variables()\n",
    "d_var = [var for var in trainable_vars if 'discriminator' in var.name]\n",
    "g_var = [var for var in trainable_vars if 'generator' in var.name]\n",
    "\n",
    "update_ops = tf.get_collection(tf.GraphKeys.UPDATE_OPS)\n",
    "d_update_ops = [op for op in update_ops if 'discriminator' in op.name]\n",
    "g_update_ops = [op for op in update_ops if 'generator' in op.name]\n",
    "\n",
    "d_optimizer = tf.train.AdamOptimizer(learning_rate=2e-4)\n",
    "g_optimizer = tf.train.AdamOptimizer(learning_rate=2e-4)\n",
    "\n",
    "with tf.control_dependencies(d_update_ops):\n",
    "    train_op_D = d_optimizer.minimize(d_loss_source + d_loss_class , var_list=d_var)\n",
    "with tf.control_dependencies(g_update_ops):\n",
    "    train_op_G = g_optimizer.minimize(g_loss_source + g_loss_class + attack_weight*attack_loss , var_list=g_var)    "
   ]
  },
  {
   "cell_type": "markdown",
   "metadata": {},
   "source": [
    "---\n",
    "---\n",
    "## Experiment\n",
    "\n",
    "Note: change the number of target to swtich to different attack target"
   ]
  },
  {
   "cell_type": "code",
   "execution_count": null,
   "metadata": {},
   "outputs": [],
   "source": [
    "# The attack target\n",
    "target = 0\n",
    "\n",
    "# Create result dataset\n",
    "result_dir = \"results/mnist_{}\".format(str(datetime.datetime.now()))\n",
    "os.makedirs(result_dir)"
   ]
  },
  {
   "cell_type": "code",
   "execution_count": null,
   "metadata": {},
   "outputs": [],
   "source": [
    "# Initialize sess\n",
    "sess = tf.Session(config=config)\n",
    "sess.run(tf.global_variables_initializer())    \n",
    "\n",
    "# Load classifier weight\n",
    "classifier.load_weights(\"target_classifier.h5\")"
   ]
  },
  {
   "cell_type": "code",
   "execution_count": null,
   "metadata": {},
   "outputs": [],
   "source": [
    "mnist = Mnist()    \n",
    "noise_size = 100\n",
    "batch_size = 100\n",
    "num_batches = 60000 // batch_size\n",
    "epochs = 70\n",
    "# epochs = 5"
   ]
  },
  {
   "cell_type": "code",
   "execution_count": null,
   "metadata": {},
   "outputs": [],
   "source": [
    "def increasing_attack_weight(epoch):\n",
    "    \n",
    "    return max(1, 100 -  2*epoch)"
   ]
  },
  {
   "cell_type": "code",
   "execution_count": null,
   "metadata": {},
   "outputs": [
    {
     "name": "stdout",
     "output_type": "stream",
     "text": [
      "===========================================\n",
      "Epoch 0 of 70\n",
      "100%|██████████| 600/600 [00:26<00:00, 23.05it/s]\n",
      "===========================================\n",
      "Epoch 1 of 70\n",
      "100%|██████████| 600/600 [00:22<00:00, 26.47it/s]\n",
      "===========================================\n",
      "Epoch 2 of 70\n",
      "100%|██████████| 600/600 [00:22<00:00, 26.29it/s]\n",
      "===========================================\n",
      "Epoch 3 of 70\n",
      "100%|██████████| 600/600 [00:23<00:00, 26.58it/s]\n",
      "===========================================\n",
      "Epoch 4 of 70\n",
      "100%|██████████| 600/600 [00:23<00:00, 25.86it/s]\n"
     ]
    },
    {
     "data": {
      "image/png": "[encoded data removed]",
      "text/plain": [
       "<Figure size 432x288 with 1 Axes>"
      ]
     },
     "metadata": {
      "needs_background": "light"
     },
     "output_type": "display_data"
    },
    {
     "name": "stdout",
     "output_type": "stream",
     "text": [
      "===========================================\n",
      "Epoch 5 of 70\n",
      "100%|██████████| 600/600 [00:22<00:00, 26.57it/s]\n",
      "===========================================\n",
      "Epoch 6 of 70\n",
      "100%|██████████| 600/600 [00:23<00:00, 25.78it/s]\n",
      "===========================================\n",
      "Epoch 7 of 70\n",
      "100%|██████████| 600/600 [00:23<00:00, 25.98it/s]\n",
      "===========================================\n",
      "Epoch 8 of 70\n",
      "100%|██████████| 600/600 [00:23<00:00, 25.96it/s]\n",
      "===========================================\n",
      "Epoch 9 of 70\n",
      "100%|██████████| 600/600 [00:23<00:00, 25.63it/s]\n"
     ]
    },
    {
     "data": {
      "image/png": "[encoded data removed]",
      "text/plain": [
       "<Figure size 432x288 with 1 Axes>"
      ]
     },
     "metadata": {
      "needs_background": "light"
     },
     "output_type": "display_data"
    },
    {
     "name": "stdout",
     "output_type": "stream",
     "text": [
      "===========================================\n",
      "Epoch 10 of 70\n",
      "100%|██████████| 600/600 [00:22<00:00, 26.09it/s]\n",
      "===========================================\n",
      "Epoch 11 of 70\n",
      "100%|██████████| 600/600 [00:23<00:00, 24.26it/s]\n",
      "===========================================\n",
      "Epoch 12 of 70\n",
      "100%|██████████| 600/600 [00:23<00:00, 25.96it/s]\n",
      "===========================================\n",
      "Epoch 13 of 70\n",
      "100%|██████████| 600/600 [00:23<00:00, 25.69it/s]\n",
      "===========================================\n",
      "Epoch 14 of 70\n",
      "100%|██████████| 600/600 [00:23<00:00, 25.70it/s]\n"
     ]
    },
    {
     "data": {
      "image/png": "[encoded data removed]",
      "text/plain": [
       "<Figure size 432x288 with 1 Axes>"
      ]
     },
     "metadata": {
      "needs_background": "light"
     },
     "output_type": "display_data"
    },
    {
     "name": "stdout",
     "output_type": "stream",
     "text": [
      "===========================================\n",
      "Epoch 15 of 70\n",
      "100%|██████████| 600/600 [00:23<00:00, 26.73it/s]\n",
      "===========================================\n",
      "Epoch 16 of 70\n",
      "100%|██████████| 600/600 [00:23<00:00, 22.58it/s]\n",
      "===========================================\n",
      "Epoch 17 of 70\n",
      "100%|██████████| 600/600 [00:23<00:00, 26.02it/s]\n",
      "===========================================\n",
      "Epoch 18 of 70\n",
      " 98%|█████████▊| 591/600 [00:22<00:00, 24.49it/s]"
     ]
    }
   ],
   "source": [
    "# Preparations before training\n",
    "np.random.seed(1337)\n",
    "noise_fixed = np.random.normal(0, 0.5, (100, noise_size))\n",
    "labels_fixed = np.eye(10)[np.repeat(range(10),[10])]\n",
    "attack_fixed = np.array([target]*batch_size*2)\n",
    "\n",
    "# Lists for recording the losses \n",
    "losses_d_real_src = []\n",
    "losses_d_real_cls = []\n",
    "losses_d_fake_src = []\n",
    "losses_d_fake_cls = []\n",
    "losses_g_src = []\n",
    "losses_g_cls = []\n",
    "losses_attack = []\n",
    "\n",
    "### Start experiment\n",
    "for epoch in range(epochs):\n",
    "    \n",
    "    print('===========================================')\n",
    "    print('Epoch {} of {}'.format(epoch, epochs))\n",
    "    \n",
    "    \n",
    "    tmp_real_src = []\n",
    "    tmp_real_cls = []\n",
    "    tmp_fake_src = []\n",
    "    tmp_fake_cls = []\n",
    "    tmp_g_src = []\n",
    "    tmp_g_cls = []\n",
    "    tmp_attack = []\n",
    "    \n",
    "#     attack_weight_this_epoch = increasing_attack_weight(epoch)\n",
    "    attack_weight_this_epoch = 0.1\n",
    "\n",
    "\n",
    "    for batch in tqdm(range(num_batches), file=sys.stdout):\n",
    "\n",
    "\n",
    "        # Train discriminator\n",
    "        if batch % 30 != 0:\n",
    "            # Real -> D\n",
    "            xs, ys = mnist.get_next_batch(batch_size)\n",
    "            target_src = np.random.uniform(0.7, 1.2, size=(batch_size,1)) # Soomthing\n",
    "            loss_src, loss_cls, _ = sess.run([d_loss_source, d_loss_class, train_op_D], feed_dict={x:xs, y:ys, is_training:True, dis_target:target_src})\n",
    "            tmp_real_src.append(loss_src)\n",
    "            tmp_real_cls.append(loss_cls)\n",
    "\n",
    "            # Fake -> D\n",
    "            z_fake = np.random.normal(0, 0.5, (batch_size, noise_size))\n",
    "            y_fake = np.eye(10)[np.random.randint(0, 10, batch_size)]\n",
    "            x_fake = sess.run(fake_img, feed_dict={z:z_fake, y:y_fake, is_training:False})\n",
    "            target_src = np.random.uniform(0.0, 0.3, size=(batch_size,1))\n",
    "            loss_src, loss_cls, _ = sess.run([d_loss_source, d_loss_class, train_op_D], feed_dict={x:x_fake, y:y_fake, is_training:True, dis_target:target_src})\n",
    "            tmp_fake_src.append(loss_src)\n",
    "            tmp_fake_cls.append(loss_cls)\n",
    "\n",
    "        else:\n",
    "            # make the labels noisy for the discriminator to prevent overfitting\n",
    "            xs, ys = mnist.get_next_batch(batch_size)\n",
    "            target_src = np.random.uniform(0.0, 0.3, size=(batch_size,1))  # occasionally flip the labels\n",
    "            loss_src, loss_cls, _ = sess.run([d_loss_source, d_loss_class, train_op_D], feed_dict={x:xs, y:ys, is_training:True, dis_target:target_src})\n",
    "            tmp_real_src.append(loss_src)\n",
    "            tmp_real_cls.append(loss_cls)\n",
    "\n",
    "            z_fake = np.random.normal(0, 0.5, (batch_size, noise_size))\n",
    "            y_fake = np.eye(10)[np.random.randint(0, 10, batch_size)]\n",
    "            x_fake = sess.run(fake_img, feed_dict={z:z_fake, y:y_fake, is_training:False})\n",
    "            target_src = np.random.uniform(0.7, 1.2, size=(batch_size,1))\n",
    "            loss_src, loss_cls, _ = sess.run([d_loss_source, d_loss_class, train_op_D], feed_dict={x:x_fake, y:y_fake, is_training:True, dis_target:target_src})\n",
    "            tmp_fake_src.append(loss_src)\n",
    "            tmp_fake_cls.append(loss_cls)\n",
    "\n",
    "        # Train generator\n",
    "        z_gen = np.random.normal(0, 0.5, (2 * batch_size, noise_size))\n",
    "        y_gen = np.eye(10)[np.random.randint(0, 10, 2 * batch_size)]\n",
    "        target_src = np.random.uniform(0.7, 1.2, size=(2 * batch_size,1))\n",
    "        loss_src, loss_cls, loss_atk, _ = sess.run([g_loss_source, g_loss_class, attack_loss, train_op_G], \n",
    "                                                               feed_dict={z:z_gen, y:y_gen, is_training:True, dis_target:target_src, attack_target:attack_fixed, attack_weight:1})\n",
    "        tmp_g_src.append(loss_src)\n",
    "        tmp_g_cls.append(loss_cls)\n",
    "        tmp_attack.append(loss_atk)\n",
    "\n",
    "        \n",
    "    losses_d_real_src.append(np.mean(tmp_real_src))\n",
    "    losses_d_real_cls.append(np.mean(tmp_real_cls))\n",
    "    losses_d_fake_src.append(np.mean(tmp_fake_src))\n",
    "    losses_d_fake_cls.append(np.mean(tmp_fake_cls))\n",
    "    losses_g_src.append(np.mean(tmp_g_src))\n",
    "    losses_g_cls.append(np.mean(tmp_g_cls))\n",
    "    losses_attack.append(np.mean(tmp_attack))\n",
    "\n",
    "    # Record the result every five epochs\n",
    "    if (epoch+1)%5==0:\n",
    "        generated_images, predictions = sess.run([fake_img, classifier_preds], \n",
    "                                                                             feed_dict={z:noise_fixed, y:labels_fixed, is_training:True, attack_target:attack_fixed})\n",
    "        generated_images = generated_images.squeeze() # (N, 28, 28, 1) --> (N, 28, 28)\n",
    "        plot_images(generated_images, epoch, result_dir=result_dir)\n",
    "        with open(result_dir + \"/result.txt\", 'a') as f:\n",
    "            print(\"Epochs:\", epoch, file=f)            \n",
    "            print(predictions, file=f)\n",
    "            print(\"\", file=f)            \n",
    "        plt.title('Losses', fontsize=20)\n",
    "        plt.plot(np.array(losses_d_real_src), label=\"d_loss_real_src\")\n",
    "        plt.plot(np.array(losses_d_real_cls), label=\"d_loss_real_cls\")\n",
    "        plt.plot(np.array(losses_d_fake_src), label=\"d_loss_fake_src\")\n",
    "        plt.plot(np.array(losses_d_fake_cls), label=\"d_loss_fake_cls\")\n",
    "        plt.plot(np.array(losses_g_src), label=\"g_loss_src\")\n",
    "        plt.plot(np.array(losses_g_cls), label=\"g_loss_cls\")\n",
    "        plt.plot(np.array(losses_attack), label=\"attck_loss\")\n",
    "#         plt.legend()\n",
    "        plt.show()    \n"
   ]
  }
 ],
 "metadata": {
  "kernelspec": {
   "display_name": "NLU",
   "language": "python",
   "name": "nlu"
  },
  "language_info": {
   "codemirror_mode": {
    "name": "ipython",
    "version": 3
   },
   "file_extension": ".py",
   "mimetype": "text/x-python",
   "name": "python",
   "nbconvert_exporter": "python",
   "pygments_lexer": "ipython3",
   "version": "3.7.3"
  }
 },
 "nbformat": 4,
 "nbformat_minor": 2
}
