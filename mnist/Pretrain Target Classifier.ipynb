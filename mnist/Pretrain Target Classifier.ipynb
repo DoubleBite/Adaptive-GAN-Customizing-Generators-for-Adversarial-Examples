{
 "cells": [
  {
   "cell_type": "markdown",
   "metadata": {},
   "source": [
    "## Pretrain Target Classifier\n",
    "\n",
    "+ This notebook trains  on mnist dataset a classifier that is going to be the model of our attack target.\n",
    "+ The classifier is based on a tutorial which teaches how to build a mnist classifier https://towardsdatascience.com/image-classification-in-10-minutes-with-mnist-dataset-54c35b77a38d\n"
   ]
  },
  {
   "cell_type": "markdown",
   "metadata": {},
   "source": [
    "---\n",
    "---\n",
    "## Imports"
   ]
  },
  {
   "cell_type": "code",
   "execution_count": 1,
   "metadata": {},
   "outputs": [],
   "source": [
    "import numpy as np\n",
    "import tensorflow as tf\n",
    "from dataset import Mnist\n",
    "from classifier import build_classifier"
   ]
  },
  {
   "cell_type": "markdown",
   "metadata": {},
   "source": [
    "---\n",
    "---\n",
    "## Build the model"
   ]
  },
  {
   "cell_type": "code",
   "execution_count": 2,
   "metadata": {},
   "outputs": [
    {
     "name": "stderr",
     "output_type": "stream",
     "text": [
      "WARNING: Logging before flag parsing goes to stderr.\n",
      "W0609 13:13:15.719847 140596394075904 deprecation.py:506] From /home/doublebite/anaconda3/envs/NLU/lib/python3.7/site-packages/tensorflow/python/ops/init_ops.py:1251: calling VarianceScaling.__init__ (from tensorflow.python.ops.init_ops) with dtype is deprecated and will be removed in a future version.\n",
      "Instructions for updating:\n",
      "Call initializer instance with the dtype argument instead of passing it to the constructor\n"
     ]
    }
   ],
   "source": [
    "model = build_classifier()\n",
    "model.add(tf.keras.layers.Activation(\"softmax\"))"
   ]
  },
  {
   "cell_type": "markdown",
   "metadata": {},
   "source": [
    "---\n",
    "---\n",
    "## Training"
   ]
  },
  {
   "cell_type": "code",
   "execution_count": 3,
   "metadata": {},
   "outputs": [
    {
     "name": "stdout",
     "output_type": "stream",
     "text": [
      "Epoch 1/10\n",
      "60000/60000 [==============================] - 8s 141us/sample - loss: 0.2054 - acc: 0.9385\n",
      "Epoch 2/10\n",
      "60000/60000 [==============================] - 6s 108us/sample - loss: 0.0817 - acc: 0.9750\n",
      "Epoch 3/10\n",
      "60000/60000 [==============================] - 6s 97us/sample - loss: 0.0574 - acc: 0.9819\n",
      "Epoch 4/10\n",
      "60000/60000 [==============================] - 6s 107us/sample - loss: 0.0425 - acc: 0.9858\n",
      "Epoch 5/10\n",
      "60000/60000 [==============================] - 7s 110us/sample - loss: 0.0349 - acc: 0.9888\n",
      "Epoch 6/10\n",
      "60000/60000 [==============================] - 6s 104us/sample - loss: 0.0294 - acc: 0.9903\n",
      "Epoch 7/10\n",
      "60000/60000 [==============================] - 6s 100us/sample - loss: 0.0262 - acc: 0.9911\n",
      "Epoch 8/10\n",
      "60000/60000 [==============================] - 6s 101us/sample - loss: 0.0202 - acc: 0.9931\n",
      "Epoch 9/10\n",
      "60000/60000 [==============================] - 7s 109us/sample - loss: 0.0197 - acc: 0.9935\n",
      "Epoch 10/10\n",
      "60000/60000 [==============================] - 6s 103us/sample - loss: 0.0169 - acc: 0.9944\n"
     ]
    },
    {
     "data": {
      "text/plain": [
       "<tensorflow.python.keras.callbacks.History at 0x7fdeb66b0438>"
      ]
     },
     "execution_count": 3,
     "metadata": {},
     "output_type": "execute_result"
    }
   ],
   "source": [
    "mnist = Mnist()\n",
    "\n",
    "model.compile(optimizer='adam', \n",
    "              loss='sparse_categorical_crossentropy', \n",
    "              metrics=['accuracy'])\n",
    "model.fit(x=mnist.images,y=mnist.labels, epochs=10)"
   ]
  },
  {
   "cell_type": "code",
   "execution_count": 4,
   "metadata": {},
   "outputs": [
    {
     "name": "stdout",
     "output_type": "stream",
     "text": [
      "10000/10000 [==============================] - 1s 64us/sample - loss: 0.0582 - acc: 0.9845\n"
     ]
    },
    {
     "data": {
      "text/plain": [
       "[0.058248446944882744, 0.9845]"
      ]
     },
     "execution_count": 4,
     "metadata": {},
     "output_type": "execute_result"
    }
   ],
   "source": [
    "test_set = Mnist(\"test\")\n",
    "model.evaluate(test_set.images, test_set.labels)"
   ]
  },
  {
   "cell_type": "code",
   "execution_count": 5,
   "metadata": {},
   "outputs": [],
   "source": [
    "# Save the model\n",
    "model.save('target_classifier.h5') "
   ]
  }
 ],
 "metadata": {
  "kernelspec": {
   "display_name": "NLU",
   "language": "python",
   "name": "nlu"
  },
  "language_info": {
   "codemirror_mode": {
    "name": "ipython",
    "version": 3
   },
   "file_extension": ".py",
   "mimetype": "text/x-python",
   "name": "python",
   "nbconvert_exporter": "python",
   "pygments_lexer": "ipython3",
   "version": "3.7.3"
  }
 },
 "nbformat": 4,
 "nbformat_minor": 2
}
